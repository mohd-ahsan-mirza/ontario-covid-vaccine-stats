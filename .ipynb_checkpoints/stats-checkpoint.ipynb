{
 "cells": [
  {
   "cell_type": "code",
   "execution_count": 1,
   "metadata": {},
   "outputs": [
    {
     "ename": "TypeError",
     "evalue": "unsupported operand type(s) for +: 'Timestamp' and 'str'",
     "output_type": "error",
     "traceback": [
      "\u001b[0;31m---------------------------------------------------------------------------\u001b[0m",
      "\u001b[0;31mTypeError\u001b[0m                                 Traceback (most recent call last)",
      "\u001b[0;32m<ipython-input-1-24acfa3f8696>\u001b[0m in \u001b[0;36m<module>\u001b[0;34m()\u001b[0m\n\u001b[1;32m     34\u001b[0m \u001b[0;34m\u001b[0m\u001b[0m\n\u001b[1;32m     35\u001b[0m \u001b[0;34m\u001b[0m\u001b[0m\n\u001b[0;32m---> 36\u001b[0;31m \u001b[0mprint\u001b[0m\u001b[0;34m(\u001b[0m\u001b[0;34m\"Last availabe vaccination date\"\u001b[0m \u001b[0;34m+\u001b[0m \u001b[0mend_date\u001b[0m\u001b[0;34m)\u001b[0m\u001b[0;34m\u001b[0m\u001b[0;34m\u001b[0m\u001b[0m\n\u001b[0m\u001b[1;32m     37\u001b[0m \u001b[0;34m\u001b[0m\u001b[0m\n\u001b[1;32m     38\u001b[0m \u001b[0;31m#print(dates)\u001b[0m\u001b[0;34m\u001b[0m\u001b[0;34m\u001b[0m\u001b[0;34m\u001b[0m\u001b[0m\n",
      "\u001b[0;32mpandas/_libs/tslibs/timestamps.pyx\u001b[0m in \u001b[0;36mpandas._libs.tslibs.timestamps.Timestamp.__radd__\u001b[0;34m()\u001b[0m\n",
      "\u001b[0;31mTypeError\u001b[0m: unsupported operand type(s) for +: 'Timestamp' and 'str'"
     ]
    }
   ],
   "source": [
    "# This Python 3 environment comes with many helpful analytics libraries installed\n",
    "# It is defined by the kaggle/python Docker image: https://github.com/kaggle/docker-python\n",
    "# For example, here's several helpful packages to load\n",
    "\n",
    "import numpy as np # linear algebra\n",
    "import pandas as pd # data processing, CSV file I/O (e.g. pd.read_csv)\n",
    "import urllib\n",
    "import matplotlib.pyplot as plt\n",
    "import json\n",
    "\n",
    "# Input data files are available in the read-only \"../input/\" directory\n",
    "# For example, running this (by clicking run or pressing Shift+Enter) will list all files under the input directory\n",
    "\n",
    "url = 'https://data.ontario.ca/api/3/action/datastore_search?resource_id=8a89caa9-511c-4568-af89-7f2174b4378c'  \n",
    "response = urllib.request.urlopen(url).read()\n",
    "\n",
    "stats = json.loads(response.decode('utf-8'))\n",
    "\n",
    "dates = []\n",
    "total_doses_administered = []\n",
    "total_population_array = []\n",
    "\n",
    "total_population = '14,048,273'\n",
    "million_divisor = 1000000\n",
    "\n",
    "for stat in stats['result']['records']:\n",
    "    dates.append(stat['report_date'])\n",
    "    total_doses_administered.append(stat['total_doses_administered'])\n",
    "    total_population_array.append(total_population)\n",
    "    \n",
    "dates = pd.to_datetime(dates, errors='coerce', format='%Y-%m-%dT%H:%M:%S')\n",
    "start_date = pd.to_datetime(dates[0], errors='coerce', format='%Y-%m-%dT%H:%M:%S')\n",
    "end_date = pd.to_datetime(dates[-1], errors='coerce', format='%Y-%m-%dT%H:%M:%S')\n",
    "\n",
    "\n",
    "print(\"Last availabe vaccination date\" + end_date)\n",
    "\n",
    "#print(dates)\n",
    "#print(total_doses_administered)\n",
    "\n",
    "df = pd.DataFrame({\n",
    "   'total_doses_administered': total_doses_administered,\n",
    "    'total_population': total_population_array\n",
    "   }, index = dates)\n",
    "\n",
    "\n",
    "df = df.apply(lambda x: x.str.replace(',', ''))\n",
    "df=df.astype(float)\n",
    "\n",
    "df['total_doses_administered'] = df['total_doses_administered']/million_divisor\n",
    "df['total_population'] = df['total_population']/million_divisor\n",
    "\n",
    "lines = df.plot(figsize=(20,10))\n",
    "lines.set_ylabel(\"Population in Millions\")\n",
    "\n",
    "\n",
    "\n",
    "\n",
    "\n"
   ]
  },
  {
   "cell_type": "code",
   "execution_count": null,
   "metadata": {},
   "outputs": [],
   "source": []
  }
 ],
 "metadata": {
  "kernelspec": {
   "display_name": "Python 3",
   "language": "python",
   "name": "python3"
  },
  "language_info": {
   "codemirror_mode": {
    "name": "ipython",
    "version": 3
   },
   "file_extension": ".py",
   "mimetype": "text/x-python",
   "name": "python",
   "nbconvert_exporter": "python",
   "pygments_lexer": "ipython3",
   "version": "3.7.2"
  }
 },
 "nbformat": 4,
 "nbformat_minor": 4
}
